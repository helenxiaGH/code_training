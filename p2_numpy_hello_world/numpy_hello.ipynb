{
 "cells": [
  {
   "cell_type": "code",
   "execution_count": 4,
   "metadata": {},
   "outputs": [],
   "source": [
    "import numpy as np"
   ]
  },
  {
   "cell_type": "code",
   "execution_count": 24,
   "metadata": {},
   "outputs": [
    {
     "name": "stdout",
     "output_type": "stream",
     "text": [
      "type:  <class 'numpy.ndarray'>\n",
      "shape:  (3,)\n",
      "array:  [1 2 3]\n",
      "array[0]:  1\n"
     ]
    }
   ],
   "source": [
    "array1 = np.array([1, 2, 3])\n",
    "print(\"type: \", type(array1))\n",
    "print(\"shape: \", array1.shape)\n",
    "print(\"array: \", array1)\n",
    "print(\"array[0]: \", array1[0])"
   ]
  },
  {
   "cell_type": "code",
   "execution_count": 23,
   "metadata": {},
   "outputs": [
    {
     "name": "stdout",
     "output_type": "stream",
     "text": [
      "type:  <class 'numpy.ndarray'>\n",
      "shape:  (3, 4)\n",
      "array: \n",
      " [[ 1  2  3  4]\n",
      " [ 5  6  7  8]\n",
      " [ 9 10 11 12]]\n",
      "array[0]: \n",
      " 1\n",
      "slice: \n",
      " [[2 3]\n",
      " [6 7]]\n"
     ]
    }
   ],
   "source": [
    "array2 = np.array([[1, 2, 3, 4], [5, 6, 7, 8], [9, 10, 11, 12]])\n",
    "print(\"type: \", type(array2))\n",
    "print(\"shape: \", array2.shape)\n",
    "print(\"array: \\n\", array2)\n",
    "print(\"array[0]: \\n\", array2[0, 0])\n",
    "print(\"slice: \\n\", array2[:2, 1:3])"
   ]
  },
  {
   "cell_type": "code",
   "execution_count": 21,
   "metadata": {},
   "outputs": [
    {
     "name": "stdout",
     "output_type": "stream",
     "text": [
      "one\n",
      " [[1.]\n",
      " [1.]\n",
      " [1.]]\n",
      "zero\n",
      " [[0.]\n",
      " [0.]\n",
      " [0.]]\n",
      "full\n",
      " [[11 11]\n",
      " [11 11]\n",
      " [11 11]\n",
      " [11 11]\n",
      " [11 11]]\n",
      "eye\n",
      " [[1. 0. 0.]\n",
      " [0. 1. 0.]\n",
      " [0. 0. 1.]]\n",
      "random\n",
      " [[0.01273094 0.63425364]\n",
      " [0.33834878 0.63939473]\n",
      " [0.9442488  0.36678013]]\n"
     ]
    }
   ],
   "source": [
    "array_one = np.ones((3, 1))\n",
    "array_zero = np.zeros((3, 1))\n",
    "array_full = np.full((5, 2), 11)\n",
    "array_eye = np.eye(3)\n",
    "array_random = np.random.random((3, 2))\n",
    "print(\"one\\n\", array_one)\n",
    "print(\"zero\\n\", array_zero)\n",
    "print(\"full\\n\", array_full)\n",
    "print(\"eye\\n\", array_eye)\n",
    "print(\"random\\n\", array_random)"
   ]
  },
  {
   "cell_type": "code",
   "execution_count": 27,
   "metadata": {},
   "outputs": [
    {
     "name": "stdout",
     "output_type": "stream",
     "text": [
      "[[888   2]\n",
      " [  5   6]]\n",
      "[[888   2   3   4]\n",
      " [  5   6   7   8]\n",
      " [  9  10  11  12]]\n"
     ]
    }
   ],
   "source": [
    "# slices will change the original\n",
    "array2 = np.array([[1, 2, 3, 4], [5, 6, 7, 8], [9, 10, 11, 12]])\n",
    "array2_part = array2[0:2, 0:2]\n",
    "array2_part[0, 0] = 888\n",
    "print(array2_part)\n",
    "print(array2)"
   ]
  },
  {
   "cell_type": "code",
   "execution_count": 30,
   "metadata": {},
   "outputs": [
    {
     "name": "stdout",
     "output_type": "stream",
     "text": [
      "[[1 2]]\n",
      "[1 2]\n",
      "(1, 2)\n",
      "(2,)\n",
      "<class 'numpy.ndarray'>\n",
      "<class 'numpy.ndarray'>\n",
      "[1 5]\n",
      "(2,)\n"
     ]
    }
   ],
   "source": [
    "# two types of slice, int and int:int\n",
    "array2 = np.array([[1, 2, 3, 4], [5, 6, 7, 8], [9, 10, 11, 12]])\n",
    "array2_row1 = array2[0:1, 0:2]\n",
    "array2_row2 = array2[0, 0:2]\n",
    "print(array2_part1)\n",
    "print(array2_part2)\n",
    "print(array2_part1.shape)\n",
    "print(array2_part2.shape)\n",
    "print(type(array2_part1))\n",
    "print(type(array2_part2))\n",
    "\n",
    "array2_col2 = array2[0:2, 0]  # turned into a row\n",
    "print(array2_col2)\n",
    "print(array2_col2.shape)"
   ]
  },
  {
   "cell_type": "code",
   "execution_count": 31,
   "metadata": {},
   "outputs": [],
   "source": [
    "# Integer array indexing"
   ]
  },
  {
   "cell_type": "code",
   "execution_count": null,
   "metadata": {},
   "outputs": [],
   "source": [
    "# http://cs231n.github.io/python-numpy-tutorial/#numpy-arrays"
   ]
  }
 ],
 "metadata": {
  "kernelspec": {
   "display_name": "Python 3",
   "language": "python",
   "name": "python3"
  },
  "language_info": {
   "codemirror_mode": {
    "name": "ipython",
    "version": 3
   },
   "file_extension": ".py",
   "mimetype": "text/x-python",
   "name": "python",
   "nbconvert_exporter": "python",
   "pygments_lexer": "ipython3",
   "version": "3.7.0"
  }
 },
 "nbformat": 4,
 "nbformat_minor": 2
}
